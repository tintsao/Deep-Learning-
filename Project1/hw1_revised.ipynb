{
 "cells": [
  {
   "cell_type": "code",
   "execution_count": 1,
   "metadata": {},
   "outputs": [],
   "source": [
    "# For data loading and scientific computing\n",
    "import pandas as pd\n",
    "import numpy as np\n",
    "import random\n",
    "import os\n",
    "import csv\n",
    "\n",
    "# For data visualization\n",
    "import matplotlib.pyplot as plt\n",
    "import plotly.express as px\n",
    "\n",
    "# Deep learning framework\n",
    "import torch\n",
    "import torch.nn as nn\n",
    "\n",
    "# data processing and evaluation\n",
    "from sklearn.model_selection import train_test_split\n",
    "from sklearn.metrics import accuracy_score, f1_score\n",
    "\n",
    "import warnings\n",
    "warnings.filterwarnings('ignore')"
   ]
  },
  {
   "cell_type": "markdown",
   "metadata": {},
   "source": [
    "## Configuration"
   ]
  },
  {
   "cell_type": "markdown",
   "metadata": {},
   "source": [
    "- `config`：集中管理參數的類別，方便調整超參數與環境參數訓練設定。  \n",
    "- `batch_size`：一次訓練時送入模型的資料筆數，值越大，訓練更穩定但吃更多記憶體；越小則更新較快但較 noisy。  \n",
    "- `learning rate`：控制模型更新參數的步伐，太大會跳來跳去，太小會收斂太慢。  \n",
    "- `epoch`：每個 epoch 是完整掃過一次訓練資料。  \n",
    "- `weight_decay`：正則化強度，權重值太大會被罰，幫助模型不要學得太複雜跟 overfitting。"
   ]
  },
  {
   "cell_type": "code",
   "execution_count": 2,
   "metadata": {},
   "outputs": [],
   "source": [
    "class config:\n",
    "    root = \"/Users/tintsao/Desktop/交大統研所/碩一上/深度學習/DL_hw/Hw1/dataset\"\n",
    "    batch_size = 32\n",
    "    lr = 1e-3\n",
    "    epochs = 5\n",
    "    weight_decay = 0.01  #對loss funtion的懲罰項，模型越複雜，loss會越大，有防止overfitting的用意。\n",
    "    device = torch.device(\"cuda\" if torch.cuda.is_available() else \"cpu\")\n",
    "    seed = 49"
   ]
  },
  {
   "cell_type": "markdown",
   "metadata": {},
   "source": [
    "## Utils"
   ]
  },
  {
   "cell_type": "code",
   "execution_count": null,
   "metadata": {},
   "outputs": [],
   "source": [
    "def seed_everything(seed):\n",
    "    # Set Python random seed\n",
    "    random.seed(seed)\n",
    "    \n",
    "    # Set NumPy random seed\n",
    "    np.random.seed(seed)\n",
    "    \n",
    "    # Set PyTorch random seed for CPU and GPU\n",
    "    torch.manual_seed(seed)\n",
    "    if torch.cuda.is_available():\n",
    "        torch.cuda.manual_seed_all(seed)\n",
    "    \n",
    "    # Set PyTorch deterministic operations for cudnn backend\n",
    "    torch.backends.cudnn.deterministic = True  #True:相同輸入、相同模型、相同權重 每次都輸出一樣結果（可重現）\n",
    "    torch.backends.cudnn.benchmark = False     #True:自動尋找最佳算法，提升運算效率，但為了重現性我們設成 False 。"
   ]
  },
  {
   "cell_type": "markdown",
   "metadata": {},
   "source": [
    "## EDA\n",
    "\n",
    "從下面的 dataframe 可以看出，第一個 column 表示每個樣本的類別，剩餘 256 個 columns 表示影像的灰階 pixel values"
   ]
  },
  {
   "cell_type": "code",
   "execution_count": 8,
   "metadata": {},
   "outputs": [
    {
     "data": {
      "text/html": [
       "<div>\n",
       "<style scoped>\n",
       "    .dataframe tbody tr th:only-of-type {\n",
       "        vertical-align: middle;\n",
       "    }\n",
       "\n",
       "    .dataframe tbody tr th {\n",
       "        vertical-align: top;\n",
       "    }\n",
       "\n",
       "    .dataframe thead th {\n",
       "        text-align: right;\n",
       "    }\n",
       "</style>\n",
       "<table border=\"1\" class=\"dataframe\">\n",
       "  <thead>\n",
       "    <tr style=\"text-align: right;\">\n",
       "      <th></th>\n",
       "      <th>0</th>\n",
       "      <th>1</th>\n",
       "      <th>2</th>\n",
       "      <th>3</th>\n",
       "      <th>4</th>\n",
       "      <th>5</th>\n",
       "      <th>6</th>\n",
       "      <th>7</th>\n",
       "      <th>8</th>\n",
       "      <th>9</th>\n",
       "      <th>...</th>\n",
       "      <th>248</th>\n",
       "      <th>249</th>\n",
       "      <th>250</th>\n",
       "      <th>251</th>\n",
       "      <th>252</th>\n",
       "      <th>253</th>\n",
       "      <th>254</th>\n",
       "      <th>255</th>\n",
       "      <th>256</th>\n",
       "      <th>257</th>\n",
       "    </tr>\n",
       "  </thead>\n",
       "  <tbody>\n",
       "    <tr>\n",
       "      <th>0</th>\n",
       "      <td>A1</td>\n",
       "      <td>6</td>\n",
       "      <td>-1.0</td>\n",
       "      <td>-1.0</td>\n",
       "      <td>-1.0</td>\n",
       "      <td>-1.000</td>\n",
       "      <td>-1.000</td>\n",
       "      <td>-1.000</td>\n",
       "      <td>-1.000</td>\n",
       "      <td>-0.631</td>\n",
       "      <td>...</td>\n",
       "      <td>0.304</td>\n",
       "      <td>0.823</td>\n",
       "      <td>1.000</td>\n",
       "      <td>0.482</td>\n",
       "      <td>-0.474</td>\n",
       "      <td>-0.991</td>\n",
       "      <td>-1.000</td>\n",
       "      <td>-1.000</td>\n",
       "      <td>-1.000</td>\n",
       "      <td>-1.0</td>\n",
       "    </tr>\n",
       "    <tr>\n",
       "      <th>1</th>\n",
       "      <td>A2</td>\n",
       "      <td>5</td>\n",
       "      <td>-1.0</td>\n",
       "      <td>-1.0</td>\n",
       "      <td>-1.0</td>\n",
       "      <td>-0.813</td>\n",
       "      <td>-0.671</td>\n",
       "      <td>-0.809</td>\n",
       "      <td>-0.887</td>\n",
       "      <td>-0.671</td>\n",
       "      <td>...</td>\n",
       "      <td>-0.671</td>\n",
       "      <td>-0.671</td>\n",
       "      <td>-0.033</td>\n",
       "      <td>0.761</td>\n",
       "      <td>0.762</td>\n",
       "      <td>0.126</td>\n",
       "      <td>-0.095</td>\n",
       "      <td>-0.671</td>\n",
       "      <td>-0.828</td>\n",
       "      <td>-1.0</td>\n",
       "    </tr>\n",
       "    <tr>\n",
       "      <th>2</th>\n",
       "      <td>A3</td>\n",
       "      <td>4</td>\n",
       "      <td>-1.0</td>\n",
       "      <td>-1.0</td>\n",
       "      <td>-1.0</td>\n",
       "      <td>-1.000</td>\n",
       "      <td>-1.000</td>\n",
       "      <td>-1.000</td>\n",
       "      <td>-1.000</td>\n",
       "      <td>-1.000</td>\n",
       "      <td>...</td>\n",
       "      <td>-1.000</td>\n",
       "      <td>-1.000</td>\n",
       "      <td>-1.000</td>\n",
       "      <td>-0.109</td>\n",
       "      <td>1.000</td>\n",
       "      <td>-0.179</td>\n",
       "      <td>-1.000</td>\n",
       "      <td>-1.000</td>\n",
       "      <td>-1.000</td>\n",
       "      <td>-1.0</td>\n",
       "    </tr>\n",
       "  </tbody>\n",
       "</table>\n",
       "<p>3 rows × 258 columns</p>\n",
       "</div>"
      ],
      "text/plain": [
       "  0    1    2    3    4      5      6      7      8      9    ...    248  \\\n",
       "0  A1    6 -1.0 -1.0 -1.0 -1.000 -1.000 -1.000 -1.000 -0.631  ...  0.304   \n",
       "1  A2    5 -1.0 -1.0 -1.0 -0.813 -0.671 -0.809 -0.887 -0.671  ... -0.671   \n",
       "2  A3    4 -1.0 -1.0 -1.0 -1.000 -1.000 -1.000 -1.000 -1.000  ... -1.000   \n",
       "\n",
       "     249    250    251    252    253    254    255    256  257  \n",
       "0  0.823  1.000  0.482 -0.474 -0.991 -1.000 -1.000 -1.000 -1.0  \n",
       "1 -0.671 -0.033  0.761  0.762  0.126 -0.095 -0.671 -0.828 -1.0  \n",
       "2 -1.000 -1.000 -0.109  1.000 -0.179 -1.000 -1.000 -1.000 -1.0  \n",
       "\n",
       "[3 rows x 258 columns]"
      ]
     },
     "execution_count": 8,
     "metadata": {},
     "output_type": "execute_result"
    }
   ],
   "source": [
    "# Read in the dataframe\n",
    "train_path = os.path.join(config.root, 'train.csv')\n",
    "test_path = os.path.join(config.root, 'test.csv')\n",
    "\n",
    "train_data = pd.read_csv(train_path, header=None)\n",
    "test_data = pd.read_csv(test_path, header=None)\n",
    "\n",
    "train_data.head(3)"
   ]
  },
  {
   "cell_type": "code",
   "execution_count": 9,
   "metadata": {},
   "outputs": [
    {
     "data": {
      "text/html": [
       "<div>\n",
       "<style scoped>\n",
       "    .dataframe tbody tr th:only-of-type {\n",
       "        vertical-align: middle;\n",
       "    }\n",
       "\n",
       "    .dataframe tbody tr th {\n",
       "        vertical-align: top;\n",
       "    }\n",
       "\n",
       "    .dataframe thead th {\n",
       "        text-align: right;\n",
       "    }\n",
       "</style>\n",
       "<table border=\"1\" class=\"dataframe\">\n",
       "  <thead>\n",
       "    <tr style=\"text-align: right;\">\n",
       "      <th></th>\n",
       "      <th>2</th>\n",
       "      <th>3</th>\n",
       "      <th>4</th>\n",
       "      <th>5</th>\n",
       "      <th>6</th>\n",
       "      <th>7</th>\n",
       "      <th>8</th>\n",
       "      <th>9</th>\n",
       "      <th>10</th>\n",
       "      <th>11</th>\n",
       "      <th>...</th>\n",
       "      <th>248</th>\n",
       "      <th>249</th>\n",
       "      <th>250</th>\n",
       "      <th>251</th>\n",
       "      <th>252</th>\n",
       "      <th>253</th>\n",
       "      <th>254</th>\n",
       "      <th>255</th>\n",
       "      <th>256</th>\n",
       "      <th>257</th>\n",
       "    </tr>\n",
       "  </thead>\n",
       "  <tbody>\n",
       "    <tr>\n",
       "      <th>count</th>\n",
       "      <td>7291.000000</td>\n",
       "      <td>7291.000000</td>\n",
       "      <td>7291.000000</td>\n",
       "      <td>7291.000000</td>\n",
       "      <td>7291.000000</td>\n",
       "      <td>7291.000000</td>\n",
       "      <td>7291.000000</td>\n",
       "      <td>7291.000000</td>\n",
       "      <td>7291.000000</td>\n",
       "      <td>7291.000000</td>\n",
       "      <td>...</td>\n",
       "      <td>7291.000000</td>\n",
       "      <td>7291.000000</td>\n",
       "      <td>7291.000000</td>\n",
       "      <td>7291.000000</td>\n",
       "      <td>7291.000000</td>\n",
       "      <td>7291.000000</td>\n",
       "      <td>7291.000000</td>\n",
       "      <td>7291.000000</td>\n",
       "      <td>7291.000000</td>\n",
       "      <td>7291.000000</td>\n",
       "    </tr>\n",
       "    <tr>\n",
       "      <th>mean</th>\n",
       "      <td>-0.996417</td>\n",
       "      <td>-0.981138</td>\n",
       "      <td>-0.951153</td>\n",
       "      <td>-0.887738</td>\n",
       "      <td>-0.773468</td>\n",
       "      <td>-0.610302</td>\n",
       "      <td>-0.368991</td>\n",
       "      <td>-0.045769</td>\n",
       "      <td>-0.052641</td>\n",
       "      <td>-0.284564</td>\n",
       "      <td>...</td>\n",
       "      <td>-0.198547</td>\n",
       "      <td>0.139823</td>\n",
       "      <td>0.116439</td>\n",
       "      <td>-0.314108</td>\n",
       "      <td>-0.653711</td>\n",
       "      <td>-0.837858</td>\n",
       "      <td>-0.922194</td>\n",
       "      <td>-0.957393</td>\n",
       "      <td>-0.979290</td>\n",
       "      <td>-0.994678</td>\n",
       "    </tr>\n",
       "    <tr>\n",
       "      <th>std</th>\n",
       "      <td>0.051713</td>\n",
       "      <td>0.151202</td>\n",
       "      <td>0.244264</td>\n",
       "      <td>0.360516</td>\n",
       "      <td>0.502659</td>\n",
       "      <td>0.628710</td>\n",
       "      <td>0.716032</td>\n",
       "      <td>0.768304</td>\n",
       "      <td>0.752979</td>\n",
       "      <td>0.746838</td>\n",
       "      <td>...</td>\n",
       "      <td>0.772895</td>\n",
       "      <td>0.752984</td>\n",
       "      <td>0.757336</td>\n",
       "      <td>0.725859</td>\n",
       "      <td>0.582555</td>\n",
       "      <td>0.414646</td>\n",
       "      <td>0.300830</td>\n",
       "      <td>0.228700</td>\n",
       "      <td>0.158998</td>\n",
       "      <td>0.066056</td>\n",
       "    </tr>\n",
       "    <tr>\n",
       "      <th>min</th>\n",
       "      <td>-1.000000</td>\n",
       "      <td>-1.000000</td>\n",
       "      <td>-1.000000</td>\n",
       "      <td>-1.000000</td>\n",
       "      <td>-1.000000</td>\n",
       "      <td>-1.000000</td>\n",
       "      <td>-1.000000</td>\n",
       "      <td>-1.000000</td>\n",
       "      <td>-1.000000</td>\n",
       "      <td>-1.000000</td>\n",
       "      <td>...</td>\n",
       "      <td>-1.000000</td>\n",
       "      <td>-1.000000</td>\n",
       "      <td>-1.000000</td>\n",
       "      <td>-1.000000</td>\n",
       "      <td>-1.000000</td>\n",
       "      <td>-1.000000</td>\n",
       "      <td>-1.000000</td>\n",
       "      <td>-1.000000</td>\n",
       "      <td>-1.000000</td>\n",
       "      <td>-1.000000</td>\n",
       "    </tr>\n",
       "    <tr>\n",
       "      <th>25%</th>\n",
       "      <td>-1.000000</td>\n",
       "      <td>-1.000000</td>\n",
       "      <td>-1.000000</td>\n",
       "      <td>-1.000000</td>\n",
       "      <td>-1.000000</td>\n",
       "      <td>-1.000000</td>\n",
       "      <td>-1.000000</td>\n",
       "      <td>-0.999000</td>\n",
       "      <td>-0.950000</td>\n",
       "      <td>-1.000000</td>\n",
       "      <td>...</td>\n",
       "      <td>-1.000000</td>\n",
       "      <td>-0.661500</td>\n",
       "      <td>-0.738000</td>\n",
       "      <td>-1.000000</td>\n",
       "      <td>-1.000000</td>\n",
       "      <td>-1.000000</td>\n",
       "      <td>-1.000000</td>\n",
       "      <td>-1.000000</td>\n",
       "      <td>-1.000000</td>\n",
       "      <td>-1.000000</td>\n",
       "    </tr>\n",
       "    <tr>\n",
       "      <th>50%</th>\n",
       "      <td>-1.000000</td>\n",
       "      <td>-1.000000</td>\n",
       "      <td>-1.000000</td>\n",
       "      <td>-1.000000</td>\n",
       "      <td>-1.000000</td>\n",
       "      <td>-1.000000</td>\n",
       "      <td>-0.719000</td>\n",
       "      <td>0.061000</td>\n",
       "      <td>0.002000</td>\n",
       "      <td>-0.561000</td>\n",
       "      <td>...</td>\n",
       "      <td>-0.353000</td>\n",
       "      <td>0.368000</td>\n",
       "      <td>0.336000</td>\n",
       "      <td>-0.579000</td>\n",
       "      <td>-1.000000</td>\n",
       "      <td>-1.000000</td>\n",
       "      <td>-1.000000</td>\n",
       "      <td>-1.000000</td>\n",
       "      <td>-1.000000</td>\n",
       "      <td>-1.000000</td>\n",
       "    </tr>\n",
       "    <tr>\n",
       "      <th>75%</th>\n",
       "      <td>-1.000000</td>\n",
       "      <td>-1.000000</td>\n",
       "      <td>-1.000000</td>\n",
       "      <td>-1.000000</td>\n",
       "      <td>-0.962000</td>\n",
       "      <td>-0.391000</td>\n",
       "      <td>0.254500</td>\n",
       "      <td>0.696000</td>\n",
       "      <td>0.674500</td>\n",
       "      <td>0.438000</td>\n",
       "      <td>...</td>\n",
       "      <td>0.554000</td>\n",
       "      <td>0.835000</td>\n",
       "      <td>0.815000</td>\n",
       "      <td>0.346000</td>\n",
       "      <td>-0.504500</td>\n",
       "      <td>-1.000000</td>\n",
       "      <td>-1.000000</td>\n",
       "      <td>-1.000000</td>\n",
       "      <td>-1.000000</td>\n",
       "      <td>-1.000000</td>\n",
       "    </tr>\n",
       "    <tr>\n",
       "      <th>max</th>\n",
       "      <td>0.638000</td>\n",
       "      <td>1.000000</td>\n",
       "      <td>1.000000</td>\n",
       "      <td>1.000000</td>\n",
       "      <td>1.000000</td>\n",
       "      <td>1.000000</td>\n",
       "      <td>1.000000</td>\n",
       "      <td>1.000000</td>\n",
       "      <td>1.000000</td>\n",
       "      <td>1.000000</td>\n",
       "      <td>...</td>\n",
       "      <td>1.000000</td>\n",
       "      <td>1.000000</td>\n",
       "      <td>1.000000</td>\n",
       "      <td>1.000000</td>\n",
       "      <td>1.000000</td>\n",
       "      <td>1.000000</td>\n",
       "      <td>1.000000</td>\n",
       "      <td>1.000000</td>\n",
       "      <td>1.000000</td>\n",
       "      <td>0.592000</td>\n",
       "    </tr>\n",
       "  </tbody>\n",
       "</table>\n",
       "<p>8 rows × 256 columns</p>\n",
       "</div>"
      ],
      "text/plain": [
       "               2            3            4            5            6    \\\n",
       "count  7291.000000  7291.000000  7291.000000  7291.000000  7291.000000   \n",
       "mean     -0.996417    -0.981138    -0.951153    -0.887738    -0.773468   \n",
       "std       0.051713     0.151202     0.244264     0.360516     0.502659   \n",
       "min      -1.000000    -1.000000    -1.000000    -1.000000    -1.000000   \n",
       "25%      -1.000000    -1.000000    -1.000000    -1.000000    -1.000000   \n",
       "50%      -1.000000    -1.000000    -1.000000    -1.000000    -1.000000   \n",
       "75%      -1.000000    -1.000000    -1.000000    -1.000000    -0.962000   \n",
       "max       0.638000     1.000000     1.000000     1.000000     1.000000   \n",
       "\n",
       "               7            8            9            10           11   ...  \\\n",
       "count  7291.000000  7291.000000  7291.000000  7291.000000  7291.000000  ...   \n",
       "mean     -0.610302    -0.368991    -0.045769    -0.052641    -0.284564  ...   \n",
       "std       0.628710     0.716032     0.768304     0.752979     0.746838  ...   \n",
       "min      -1.000000    -1.000000    -1.000000    -1.000000    -1.000000  ...   \n",
       "25%      -1.000000    -1.000000    -0.999000    -0.950000    -1.000000  ...   \n",
       "50%      -1.000000    -0.719000     0.061000     0.002000    -0.561000  ...   \n",
       "75%      -0.391000     0.254500     0.696000     0.674500     0.438000  ...   \n",
       "max       1.000000     1.000000     1.000000     1.000000     1.000000  ...   \n",
       "\n",
       "               248          249          250          251          252  \\\n",
       "count  7291.000000  7291.000000  7291.000000  7291.000000  7291.000000   \n",
       "mean     -0.198547     0.139823     0.116439    -0.314108    -0.653711   \n",
       "std       0.772895     0.752984     0.757336     0.725859     0.582555   \n",
       "min      -1.000000    -1.000000    -1.000000    -1.000000    -1.000000   \n",
       "25%      -1.000000    -0.661500    -0.738000    -1.000000    -1.000000   \n",
       "50%      -0.353000     0.368000     0.336000    -0.579000    -1.000000   \n",
       "75%       0.554000     0.835000     0.815000     0.346000    -0.504500   \n",
       "max       1.000000     1.000000     1.000000     1.000000     1.000000   \n",
       "\n",
       "               253          254          255          256          257  \n",
       "count  7291.000000  7291.000000  7291.000000  7291.000000  7291.000000  \n",
       "mean     -0.837858    -0.922194    -0.957393    -0.979290    -0.994678  \n",
       "std       0.414646     0.300830     0.228700     0.158998     0.066056  \n",
       "min      -1.000000    -1.000000    -1.000000    -1.000000    -1.000000  \n",
       "25%      -1.000000    -1.000000    -1.000000    -1.000000    -1.000000  \n",
       "50%      -1.000000    -1.000000    -1.000000    -1.000000    -1.000000  \n",
       "75%      -1.000000    -1.000000    -1.000000    -1.000000    -1.000000  \n",
       "max       1.000000     1.000000     1.000000     1.000000     0.592000  \n",
       "\n",
       "[8 rows x 256 columns]"
      ]
     },
     "execution_count": 9,
     "metadata": {},
     "output_type": "execute_result"
    }
   ],
   "source": [
    "train_data.iloc[:, 2:].describe() #總結資料集分佈的集中趨勢、離散度和形狀（不包括 NaN值）"
   ]
  },
  {
   "cell_type": "code",
   "execution_count": 10,
   "metadata": {},
   "outputs": [
    {
     "name": "stdout",
     "output_type": "stream",
     "text": [
      "Number of training samples: 7291\n",
      "Number of testing samples: 2007\n"
     ]
    }
   ],
   "source": [
    "print(f\"Number of training samples: {train_data.shape[0]}\")\n",
    "print(f\"Number of testing samples: {test_data.shape[0]}\")"
   ]
  },
  {
   "cell_type": "code",
   "execution_count": 11,
   "metadata": {},
   "outputs": [
    {
     "data": {
      "text/plain": [
       "1\n",
       "0    1194\n",
       "1    1005\n",
       "2     731\n",
       "3     658\n",
       "4     652\n",
       "5     556\n",
       "6     664\n",
       "7     645\n",
       "8     542\n",
       "9     644\n",
       "Name: count, dtype: int64"
      ]
     },
     "execution_count": 11,
     "metadata": {},
     "output_type": "execute_result"
    }
   ],
   "source": [
    "#計算 train_data 標籤數量\n",
    "train_data.iloc[:, 1].value_counts().sort_index() "
   ]
  },
  {
   "cell_type": "markdown",
   "metadata": {},
   "source": [
    "## Show the number of images in each digit for the training dataset"
   ]
  },
  {
   "cell_type": "markdown",
   "metadata": {},
   "source": [
    "首先取出 label 並計算每個出現的次數，接下來 label 的值由小到大排序。  \n",
    "接著用 Bar Chart 把它畫出來。  "
   ]
  },
  {
   "cell_type": "code",
   "execution_count": 61,
   "metadata": {},
   "outputs": [
    {
     "data": {
      "application/vnd.plotly.v1+json": {
       "config": {
        "plotlyServerURL": "https://plot.ly"
       },
       "data": [
        {
         "hovertemplate": "labels=%{x}<br>number_of_samples=%{y}<extra></extra>",
         "legendgroup": "",
         "marker": {
          "color": "#636efa",
          "pattern": {
           "shape": ""
          }
         },
         "name": "",
         "orientation": "v",
         "showlegend": false,
         "textposition": "auto",
         "type": "bar",
         "x": [
          "0",
          "1",
          "2",
          "3",
          "4",
          "5",
          "6",
          "7",
          "8",
          "9"
         ],
         "xaxis": "x",
         "y": {
          "bdata": "qgTtA9sCkgKMAiwClwKFAh4ChAI=",
          "dtype": "i2"
         },
         "yaxis": "y"
        }
       ],
       "layout": {
        "barmode": "relative",
        "legend": {
         "tracegroupgap": 0
        },
        "margin": {
         "t": 60
        },
        "plot_bgcolor": "white",
        "template": {
         "data": {
          "bar": [
           {
            "error_x": {
             "color": "#2a3f5f"
            },
            "error_y": {
             "color": "#2a3f5f"
            },
            "marker": {
             "line": {
              "color": "#E5ECF6",
              "width": 0.5
             },
             "pattern": {
              "fillmode": "overlay",
              "size": 10,
              "solidity": 0.2
             }
            },
            "type": "bar"
           }
          ],
          "barpolar": [
           {
            "marker": {
             "line": {
              "color": "#E5ECF6",
              "width": 0.5
             },
             "pattern": {
              "fillmode": "overlay",
              "size": 10,
              "solidity": 0.2
             }
            },
            "type": "barpolar"
           }
          ],
          "carpet": [
           {
            "aaxis": {
             "endlinecolor": "#2a3f5f",
             "gridcolor": "white",
             "linecolor": "white",
             "minorgridcolor": "white",
             "startlinecolor": "#2a3f5f"
            },
            "baxis": {
             "endlinecolor": "#2a3f5f",
             "gridcolor": "white",
             "linecolor": "white",
             "minorgridcolor": "white",
             "startlinecolor": "#2a3f5f"
            },
            "type": "carpet"
           }
          ],
          "choropleth": [
           {
            "colorbar": {
             "outlinewidth": 0,
             "ticks": ""
            },
            "type": "choropleth"
           }
          ],
          "contour": [
           {
            "colorbar": {
             "outlinewidth": 0,
             "ticks": ""
            },
            "colorscale": [
             [
              0,
              "#0d0887"
             ],
             [
              0.1111111111111111,
              "#46039f"
             ],
             [
              0.2222222222222222,
              "#7201a8"
             ],
             [
              0.3333333333333333,
              "#9c179e"
             ],
             [
              0.4444444444444444,
              "#bd3786"
             ],
             [
              0.5555555555555556,
              "#d8576b"
             ],
             [
              0.6666666666666666,
              "#ed7953"
             ],
             [
              0.7777777777777778,
              "#fb9f3a"
             ],
             [
              0.8888888888888888,
              "#fdca26"
             ],
             [
              1,
              "#f0f921"
             ]
            ],
            "type": "contour"
           }
          ],
          "contourcarpet": [
           {
            "colorbar": {
             "outlinewidth": 0,
             "ticks": ""
            },
            "type": "contourcarpet"
           }
          ],
          "heatmap": [
           {
            "colorbar": {
             "outlinewidth": 0,
             "ticks": ""
            },
            "colorscale": [
             [
              0,
              "#0d0887"
             ],
             [
              0.1111111111111111,
              "#46039f"
             ],
             [
              0.2222222222222222,
              "#7201a8"
             ],
             [
              0.3333333333333333,
              "#9c179e"
             ],
             [
              0.4444444444444444,
              "#bd3786"
             ],
             [
              0.5555555555555556,
              "#d8576b"
             ],
             [
              0.6666666666666666,
              "#ed7953"
             ],
             [
              0.7777777777777778,
              "#fb9f3a"
             ],
             [
              0.8888888888888888,
              "#fdca26"
             ],
             [
              1,
              "#f0f921"
             ]
            ],
            "type": "heatmap"
           }
          ],
          "histogram": [
           {
            "marker": {
             "pattern": {
              "fillmode": "overlay",
              "size": 10,
              "solidity": 0.2
             }
            },
            "type": "histogram"
           }
          ],
          "histogram2d": [
           {
            "colorbar": {
             "outlinewidth": 0,
             "ticks": ""
            },
            "colorscale": [
             [
              0,
              "#0d0887"
             ],
             [
              0.1111111111111111,
              "#46039f"
             ],
             [
              0.2222222222222222,
              "#7201a8"
             ],
             [
              0.3333333333333333,
              "#9c179e"
             ],
             [
              0.4444444444444444,
              "#bd3786"
             ],
             [
              0.5555555555555556,
              "#d8576b"
             ],
             [
              0.6666666666666666,
              "#ed7953"
             ],
             [
              0.7777777777777778,
              "#fb9f3a"
             ],
             [
              0.8888888888888888,
              "#fdca26"
             ],
             [
              1,
              "#f0f921"
             ]
            ],
            "type": "histogram2d"
           }
          ],
          "histogram2dcontour": [
           {
            "colorbar": {
             "outlinewidth": 0,
             "ticks": ""
            },
            "colorscale": [
             [
              0,
              "#0d0887"
             ],
             [
              0.1111111111111111,
              "#46039f"
             ],
             [
              0.2222222222222222,
              "#7201a8"
             ],
             [
              0.3333333333333333,
              "#9c179e"
             ],
             [
              0.4444444444444444,
              "#bd3786"
             ],
             [
              0.5555555555555556,
              "#d8576b"
             ],
             [
              0.6666666666666666,
              "#ed7953"
             ],
             [
              0.7777777777777778,
              "#fb9f3a"
             ],
             [
              0.8888888888888888,
              "#fdca26"
             ],
             [
              1,
              "#f0f921"
             ]
            ],
            "type": "histogram2dcontour"
           }
          ],
          "mesh3d": [
           {
            "colorbar": {
             "outlinewidth": 0,
             "ticks": ""
            },
            "type": "mesh3d"
           }
          ],
          "parcoords": [
           {
            "line": {
             "colorbar": {
              "outlinewidth": 0,
              "ticks": ""
             }
            },
            "type": "parcoords"
           }
          ],
          "pie": [
           {
            "automargin": true,
            "type": "pie"
           }
          ],
          "scatter": [
           {
            "fillpattern": {
             "fillmode": "overlay",
             "size": 10,
             "solidity": 0.2
            },
            "type": "scatter"
           }
          ],
          "scatter3d": [
           {
            "line": {
             "colorbar": {
              "outlinewidth": 0,
              "ticks": ""
             }
            },
            "marker": {
             "colorbar": {
              "outlinewidth": 0,
              "ticks": ""
             }
            },
            "type": "scatter3d"
           }
          ],
          "scattercarpet": [
           {
            "marker": {
             "colorbar": {
              "outlinewidth": 0,
              "ticks": ""
             }
            },
            "type": "scattercarpet"
           }
          ],
          "scattergeo": [
           {
            "marker": {
             "colorbar": {
              "outlinewidth": 0,
              "ticks": ""
             }
            },
            "type": "scattergeo"
           }
          ],
          "scattergl": [
           {
            "marker": {
             "colorbar": {
              "outlinewidth": 0,
              "ticks": ""
             }
            },
            "type": "scattergl"
           }
          ],
          "scattermap": [
           {
            "marker": {
             "colorbar": {
              "outlinewidth": 0,
              "ticks": ""
             }
            },
            "type": "scattermap"
           }
          ],
          "scattermapbox": [
           {
            "marker": {
             "colorbar": {
              "outlinewidth": 0,
              "ticks": ""
             }
            },
            "type": "scattermapbox"
           }
          ],
          "scatterpolar": [
           {
            "marker": {
             "colorbar": {
              "outlinewidth": 0,
              "ticks": ""
             }
            },
            "type": "scatterpolar"
           }
          ],
          "scatterpolargl": [
           {
            "marker": {
             "colorbar": {
              "outlinewidth": 0,
              "ticks": ""
             }
            },
            "type": "scatterpolargl"
           }
          ],
          "scatterternary": [
           {
            "marker": {
             "colorbar": {
              "outlinewidth": 0,
              "ticks": ""
             }
            },
            "type": "scatterternary"
           }
          ],
          "surface": [
           {
            "colorbar": {
             "outlinewidth": 0,
             "ticks": ""
            },
            "colorscale": [
             [
              0,
              "#0d0887"
             ],
             [
              0.1111111111111111,
              "#46039f"
             ],
             [
              0.2222222222222222,
              "#7201a8"
             ],
             [
              0.3333333333333333,
              "#9c179e"
             ],
             [
              0.4444444444444444,
              "#bd3786"
             ],
             [
              0.5555555555555556,
              "#d8576b"
             ],
             [
              0.6666666666666666,
              "#ed7953"
             ],
             [
              0.7777777777777778,
              "#fb9f3a"
             ],
             [
              0.8888888888888888,
              "#fdca26"
             ],
             [
              1,
              "#f0f921"
             ]
            ],
            "type": "surface"
           }
          ],
          "table": [
           {
            "cells": {
             "fill": {
              "color": "#EBF0F8"
             },
             "line": {
              "color": "white"
             }
            },
            "header": {
             "fill": {
              "color": "#C8D4E3"
             },
             "line": {
              "color": "white"
             }
            },
            "type": "table"
           }
          ]
         },
         "layout": {
          "annotationdefaults": {
           "arrowcolor": "#2a3f5f",
           "arrowhead": 0,
           "arrowwidth": 1
          },
          "autotypenumbers": "strict",
          "coloraxis": {
           "colorbar": {
            "outlinewidth": 0,
            "ticks": ""
           }
          },
          "colorscale": {
           "diverging": [
            [
             0,
             "#8e0152"
            ],
            [
             0.1,
             "#c51b7d"
            ],
            [
             0.2,
             "#de77ae"
            ],
            [
             0.3,
             "#f1b6da"
            ],
            [
             0.4,
             "#fde0ef"
            ],
            [
             0.5,
             "#f7f7f7"
            ],
            [
             0.6,
             "#e6f5d0"
            ],
            [
             0.7,
             "#b8e186"
            ],
            [
             0.8,
             "#7fbc41"
            ],
            [
             0.9,
             "#4d9221"
            ],
            [
             1,
             "#276419"
            ]
           ],
           "sequential": [
            [
             0,
             "#0d0887"
            ],
            [
             0.1111111111111111,
             "#46039f"
            ],
            [
             0.2222222222222222,
             "#7201a8"
            ],
            [
             0.3333333333333333,
             "#9c179e"
            ],
            [
             0.4444444444444444,
             "#bd3786"
            ],
            [
             0.5555555555555556,
             "#d8576b"
            ],
            [
             0.6666666666666666,
             "#ed7953"
            ],
            [
             0.7777777777777778,
             "#fb9f3a"
            ],
            [
             0.8888888888888888,
             "#fdca26"
            ],
            [
             1,
             "#f0f921"
            ]
           ],
           "sequentialminus": [
            [
             0,
             "#0d0887"
            ],
            [
             0.1111111111111111,
             "#46039f"
            ],
            [
             0.2222222222222222,
             "#7201a8"
            ],
            [
             0.3333333333333333,
             "#9c179e"
            ],
            [
             0.4444444444444444,
             "#bd3786"
            ],
            [
             0.5555555555555556,
             "#d8576b"
            ],
            [
             0.6666666666666666,
             "#ed7953"
            ],
            [
             0.7777777777777778,
             "#fb9f3a"
            ],
            [
             0.8888888888888888,
             "#fdca26"
            ],
            [
             1,
             "#f0f921"
            ]
           ]
          },
          "colorway": [
           "#636efa",
           "#EF553B",
           "#00cc96",
           "#ab63fa",
           "#FFA15A",
           "#19d3f3",
           "#FF6692",
           "#B6E880",
           "#FF97FF",
           "#FECB52"
          ],
          "font": {
           "color": "#2a3f5f"
          },
          "geo": {
           "bgcolor": "white",
           "lakecolor": "white",
           "landcolor": "#E5ECF6",
           "showlakes": true,
           "showland": true,
           "subunitcolor": "white"
          },
          "hoverlabel": {
           "align": "left"
          },
          "hovermode": "closest",
          "mapbox": {
           "style": "light"
          },
          "paper_bgcolor": "white",
          "plot_bgcolor": "#E5ECF6",
          "polar": {
           "angularaxis": {
            "gridcolor": "white",
            "linecolor": "white",
            "ticks": ""
           },
           "bgcolor": "#E5ECF6",
           "radialaxis": {
            "gridcolor": "white",
            "linecolor": "white",
            "ticks": ""
           }
          },
          "scene": {
           "xaxis": {
            "backgroundcolor": "#E5ECF6",
            "gridcolor": "white",
            "gridwidth": 2,
            "linecolor": "white",
            "showbackground": true,
            "ticks": "",
            "zerolinecolor": "white"
           },
           "yaxis": {
            "backgroundcolor": "#E5ECF6",
            "gridcolor": "white",
            "gridwidth": 2,
            "linecolor": "white",
            "showbackground": true,
            "ticks": "",
            "zerolinecolor": "white"
           },
           "zaxis": {
            "backgroundcolor": "#E5ECF6",
            "gridcolor": "white",
            "gridwidth": 2,
            "linecolor": "white",
            "showbackground": true,
            "ticks": "",
            "zerolinecolor": "white"
           }
          },
          "shapedefaults": {
           "line": {
            "color": "#2a3f5f"
           }
          },
          "ternary": {
           "aaxis": {
            "gridcolor": "white",
            "linecolor": "white",
            "ticks": ""
           },
           "baxis": {
            "gridcolor": "white",
            "linecolor": "white",
            "ticks": ""
           },
           "bgcolor": "#E5ECF6",
           "caxis": {
            "gridcolor": "white",
            "linecolor": "white",
            "ticks": ""
           }
          },
          "title": {
           "x": 0.05
          },
          "xaxis": {
           "automargin": true,
           "gridcolor": "white",
           "linecolor": "white",
           "ticks": "",
           "title": {
            "standoff": 15
           },
           "zerolinecolor": "white",
           "zerolinewidth": 2
          },
          "yaxis": {
           "automargin": true,
           "gridcolor": "white",
           "linecolor": "white",
           "ticks": "",
           "title": {
            "standoff": 15
           },
           "zerolinecolor": "white",
           "zerolinewidth": 2
          }
         }
        },
        "title": {
         "font": {
          "size": 20
         },
         "text": "Number of Samples Per Labels",
         "x": 0.5,
         "y": 0.975
        },
        "xaxis": {
         "anchor": "y",
         "domain": [
          0,
          1
         ],
         "gridcolor": "lightgray",
         "showgrid": true,
         "title": {
          "text": "labels"
         },
         "zeroline": false
        },
        "yaxis": {
         "anchor": "x",
         "domain": [
          0,
          1
         ],
         "gridcolor": "lightgray",
         "showgrid": true,
         "title": {
          "text": "number_of_samples"
         },
         "zeroline": false
        }
       }
      }
     },
     "metadata": {},
     "output_type": "display_data"
    }
   ],
   "source": [
    "train_label_distribution = train_data.iloc[:, 1].value_counts().sort_index()\n",
    "train_label_distribution = pd.DataFrame(\n",
    "    {\n",
    "        \"labels\": train_label_distribution.index.astype(str), #將int64改成str\n",
    "        \"number_of_samples\": train_label_distribution.values\n",
    "    }\n",
    ")\n",
    "# print(train_label_distribution)\n",
    "\n",
    "#以下兩個是視覺化參數設定\n",
    "fig = px.bar(\n",
    "    train_label_distribution, x=\"labels\", y=\"number_of_samples\",\n",
    "    labels=dict(y=\"number of samples\"),\n",
    ")\n",
    "# update_layout 用來更新圖表的佈局配置，調整圖表的外觀和樣式\n",
    "fig.update_layout(\n",
    "    plot_bgcolor='white',\n",
    "    xaxis=dict(showgrid=True, gridcolor='lightgray', zeroline=False),  # Show x-axis grid，zeroline=False為不顯示x=0那條線\n",
    "    yaxis=dict(showgrid=True, gridcolor='lightgray', zeroline=False),  # Show y-axis grid，zeroline=False為不顯示y=0那條線\n",
    "    title=dict(text=\"Number of Samples Per Labels\", x=0.5, y=0.975, font=dict(size=20))\n",
    ")\n",
    "fig.show()"
   ]
  },
  {
   "cell_type": "markdown",
   "metadata": {},
   "source": [
    "## Pytorch Dataset\n",
    "\n",
    "pytorch dataset 必須為自定義物件，且須繼承於 `torch.utils.data.Dataset`。我們必須實現下列方法\n",
    "\n",
    "- `__init__:` Initialization Setting\n",
    "- `__len__:` return the length of the data\n",
    "- `__getitem__:` return the data according to the index draw from sampler"
   ]
  },
  {
   "cell_type": "markdown",
   "metadata": {},
   "source": [
    "Pandas 的 DataFrame 這種資料結構適合處理表格，但不適合用在DL當中，因為他不支援 GPU 運算跟自動微分的功能\n",
    "\n",
    "所以，我們要轉成 torch.tensor ，專門為DL所設計的框架，支援上述所提及的功能。\n",
    "\n",
    "但 Pandas 和 PyTorch 會有兼容性問題，有些複雜的資料結構會出意外，在這種情況下，我們會先轉成NumPy來確保相容。"
   ]
  },
  {
   "cell_type": "code",
   "execution_count": 13,
   "metadata": {},
   "outputs": [],
   "source": [
    "class HandwrittenDigits(torch.utils.data.Dataset):\n",
    "    def __init__(self, df, mode=None, transforms=None):\n",
    "        self.df = df\n",
    "        self.transforms = transforms \n",
    "        self.mode = mode\n",
    "        \n",
    "    def __len__(self):\n",
    "        return len(self.df)\n",
    "        \n",
    "    def __getitem__(self, x):\n",
    "        if self.mode == \"train\":\n",
    "            ID = self.df.iloc[x, 0]                                 #抓取第 x 筆資料，第 0 欄為 image_id。\n",
    "            label = self.df.iloc[x, 1]                              #抓取第 x 筆資料，第 1 欄為 image_label。\n",
    "            image = self.df.iloc[x, 2:].to_numpy(dtype=np.float32)  #抓取第 x 筆資料，第 2 欄為 image 的 pixel。\n",
    "            label, image = torch.tensor(label), torch.tensor(image)\n",
    "            \n",
    "            if self.transforms: #這個只會用在 train_data 身上，所以 valid_data 不用。\n",
    "                transformed = self.transforms(image=image)\n",
    "                image = transformed['image']\n",
    "                \n",
    "            return ID, label, image\n",
    "        \n",
    "        elif self.mode == \"valid\":\n",
    "            ID = self.df.iloc[x, 0]                                 #抓取第 x 筆資料，第 0 欄為 image_id。\n",
    "            label = self.df.iloc[x, 1]                              #抓取第 x 筆資料，第 1 欄為 image_label。\n",
    "            image = self.df.iloc[x, 2:].to_numpy(dtype=np.float32)  #抓取第 x 筆資料，第 2 欄為 image 的 pixel。\n",
    "            label, image = torch.tensor(label), torch.tensor(image)\n",
    "            \n",
    "            return ID, label, image\n",
    "        \n",
    "        elif self.mode == \"test\":\n",
    "            ID = self.df.iloc[x, 0]\n",
    "            image = self.df.iloc[x, 1:].to_numpy(dtype=np.float32) \n",
    "            image = torch.tensor(image)\n",
    "            \n",
    "            return ID, image  # 因為 test 沒 label"
   ]
  },
  {
   "cell_type": "code",
   "execution_count": 17,
   "metadata": {},
   "outputs": [
    {
     "data": {
      "text/plain": [
       "('A1',\n",
       " tensor(6),\n",
       " tensor([-1.0000, -1.0000, -1.0000, -1.0000, -1.0000, -1.0000, -1.0000, -0.6310,\n",
       "          0.8620, -0.1670, -1.0000, -1.0000, -1.0000, -1.0000, -1.0000, -1.0000,\n",
       "         -1.0000, -1.0000, -1.0000, -1.0000, -1.0000, -1.0000, -0.9920,  0.2970,\n",
       "          1.0000,  0.3070, -1.0000, -1.0000, -1.0000, -1.0000, -1.0000, -1.0000,\n",
       "         -1.0000, -1.0000, -1.0000, -1.0000, -1.0000, -1.0000, -0.4100,  1.0000,\n",
       "          0.9860, -0.5650, -1.0000, -1.0000, -1.0000, -1.0000, -1.0000, -1.0000,\n",
       "         -1.0000, -1.0000, -1.0000, -1.0000, -1.0000, -0.6830,  0.8250,  1.0000,\n",
       "          0.5620, -1.0000, -1.0000, -1.0000, -1.0000, -1.0000, -1.0000, -1.0000,\n",
       "         -1.0000, -1.0000, -1.0000, -1.0000, -0.9380,  0.5400,  1.0000,  0.7780,\n",
       "         -0.7150, -1.0000, -1.0000, -1.0000, -1.0000, -1.0000, -1.0000, -1.0000,\n",
       "         -1.0000, -1.0000, -1.0000, -1.0000,  0.1000,  1.0000,  0.9220, -0.4390,\n",
       "         -1.0000, -1.0000, -1.0000, -1.0000, -1.0000, -1.0000, -1.0000, -1.0000,\n",
       "         -1.0000, -1.0000, -1.0000, -0.2570,  0.9500,  1.0000, -0.1620, -1.0000,\n",
       "         -1.0000, -1.0000, -0.9870, -0.7140, -0.8320, -1.0000, -1.0000, -1.0000,\n",
       "         -1.0000, -1.0000, -0.7970,  0.9090,  1.0000,  0.3000, -0.9610, -1.0000,\n",
       "         -1.0000, -0.5500,  0.4850,  0.9960,  0.8670,  0.0920, -1.0000, -1.0000,\n",
       "         -1.0000, -1.0000,  0.2780,  1.0000,  0.8770, -0.8240, -1.0000, -0.9050,\n",
       "          0.1450,  0.9770,  1.0000,  1.0000,  1.0000,  0.9900, -0.7450, -1.0000,\n",
       "         -1.0000, -0.9500,  0.8470,  1.0000,  0.3270, -1.0000, -1.0000,  0.3550,\n",
       "          1.0000,  0.6550, -0.1090, -0.1850,  1.0000,  0.9880, -0.7230, -1.0000,\n",
       "         -1.0000, -0.6300,  1.0000,  1.0000,  0.0680, -0.9250,  0.1130,  0.9600,\n",
       "          0.3080, -0.8840, -1.0000, -0.0750,  1.0000,  0.6410, -0.9950, -1.0000,\n",
       "         -1.0000, -0.6770,  1.0000,  1.0000,  0.7530,  0.3410,  1.0000,  0.7070,\n",
       "         -0.9420, -1.0000, -1.0000,  0.5450,  1.0000,  0.0270, -1.0000, -1.0000,\n",
       "         -1.0000, -0.9030,  0.7920,  1.0000,  1.0000,  1.0000,  1.0000,  0.5360,\n",
       "          0.1840,  0.8120,  0.8370,  0.9780,  0.8640, -0.6300, -1.0000, -1.0000,\n",
       "         -1.0000, -1.0000, -0.4520,  0.8280,  1.0000,  1.0000,  1.0000,  1.0000,\n",
       "          1.0000,  1.0000,  1.0000,  1.0000,  0.1350, -1.0000, -1.0000, -1.0000,\n",
       "         -1.0000, -1.0000, -1.0000, -0.4830,  0.8130,  1.0000,  1.0000,  1.0000,\n",
       "          1.0000,  1.0000,  1.0000,  0.2190, -0.9430, -1.0000, -1.0000, -1.0000,\n",
       "         -1.0000, -1.0000, -1.0000, -1.0000, -0.9740, -0.4290,  0.3040,  0.8230,\n",
       "          1.0000,  0.4820, -0.4740, -0.9910, -1.0000, -1.0000, -1.0000, -1.0000]))"
      ]
     },
     "execution_count": 17,
     "metadata": {},
     "output_type": "execute_result"
    }
   ],
   "source": [
    "ds = HandwrittenDigits(train_data, mode = \"train\")\n",
    "ds[0]"
   ]
  },
  {
   "cell_type": "markdown",
   "metadata": {},
   "source": [
    "## Pytorch DataLoader\n",
    "\n",
    "怎麼讓neural network 批次(batch)讀取影像資料呢? 我們可以透過 pytorch dataloader 來達成，pytorch dataloader 包含三個部分"
   ]
  },
  {
   "cell_type": "markdown",
   "metadata": {},
   "source": [
    "- sampler: 抽樣方式，主要是生出一組index。\n",
    "\n",
    "    常見的抽樣方式包括：\n",
    "\n",
    "    SequentialSampler: 順序抽樣，按照順序抽取資料。\n",
    "\n",
    "    RandomSampler: 隨機抽樣，隨機抽取資料。\n",
    "\n",
    "    SubsetRandomSampler: 從一個subset隨機抽樣。"
   ]
  },
  {
   "cell_type": "markdown",
   "metadata": {},
   "source": [
    "- dataset: 對影像的處理方法，根據這組index提取相對應的資料。\n",
    "\n",
    "    我們有自定義HandwrittenDigits，__getitem()__定義了如何讀取 image 與 label 。"
   ]
  },
  {
   "cell_type": "markdown",
   "metadata": {},
   "source": [
    "- collate_fn: 對一個batch進行整合。\n",
    "\n",
    "    Batch 是指在一次迭代（iteration）中， model 處理的資料樣本的數量。\n",
    "\n",
    "    例如，1000個樣本，我可以設定每次迭代中使用 batch=32 (每次訓練都用32個樣本)。\n",
    "\n",
    "    使用 Batch 可以在訓練過程中讓 gradient descent 更穩定、更平滑的更新，對於大型資料集可以避免一次性加載所有數據導致內存不足。"
   ]
  },
  {
   "cell_type": "markdown",
   "metadata": {},
   "source": [
    "具體流程如下:\n",
    "sampler --> indices --> dataset --> collate_fn\n",
    "\n",
    "視覺化詳見 [https://twitter.com/_ScottCondron/status/1363494433715552259](https://twitter.com/_ScottCondron/status/1363494433715552259)"
   ]
  },
  {
   "cell_type": "code",
   "execution_count": 18,
   "metadata": {},
   "outputs": [],
   "source": [
    "train_data = pd.read_csv(train_path, header=None)\n",
    "train_dataset = HandwrittenDigits(train_data, mode = \"train\")\n",
    "train_loader = torch.utils.data.DataLoader(train_dataset, batch_size=config.batch_size, shuffle=True) #shuffle=True代表使用 RandomSampler。"
   ]
  },
  {
   "cell_type": "markdown",
   "metadata": {},
   "source": [
    "## For each digit, plot 10 randomly selected images from your training dataset."
   ]
  },
  {
   "cell_type": "code",
   "execution_count": 27,
   "metadata": {},
   "outputs": [
    {
     "data": {
      "image/png": "[encoded data removed]",
      "text/plain": [
       "<Figure size 1000x1000 with 100 Axes>"
      ]
     },
     "metadata": {},
     "output_type": "display_data"
    }
   ],
   "source": [
    "# 建立字典用來儲存 0~9 的圖像\n",
    "digit_images = {i: [] for i in range(10)}\n",
    "# print(digit_images)\n",
    "\n",
    "# 從train_dataset抓取 label 跟 image，並將 image 重塑成 16x16，放進字典中。\n",
    "for ID, label, image in train_dataset:\n",
    "    digit_images[label.item()].append(image.numpy().reshape(16, 16))\n",
    "\n",
    "# 繪製每個數字的隨機10張圖片\n",
    "fig, axes = plt.subplots(10, 10, figsize=(10, 10))\n",
    "fig.suptitle('10 Randomly Selected Images for Each Digit', fontsize=16)\n",
    "\n",
    "for digit in range(10):\n",
    "    # 隨機選擇10張圖片\n",
    "    selected_images = random.sample(digit_images[digit], 10)\n",
    "    for i, img in enumerate(selected_images):\n",
    "        ax = axes[digit, i]                                   #axes 是一個 10x10 的 matplotlib 子圖\n",
    "        ax.imshow(img, cmap='gray')\n",
    "        ax.axis('off')\n",
    "\n",
    "plt.tight_layout() #自動調整圖片間距，避免圖像太過緊密。\n",
    "plt.show()"
   ]
  },
  {
   "cell_type": "markdown",
   "metadata": {},
   "source": [
    "# Pytorch Module\n",
    "\n",
    "Pytorch neural network 同樣也是需自定義的物件，我們必須實現兩種方法\n",
    "\n",
    "- `__init__:` model 的初始化函數，用於定義模型的結構\n",
    "- `forward:` 定義了 model 向前傳播的過程\n",
    "\n",
    "這裡示範 Net-2: Two hidden layers with 64 and 16 nodes, respectively"
   ]
  },
  {
   "cell_type": "markdown",
   "metadata": {},
   "source": [
    "### 簡單前饋神經網路\n",
    "用來處理分類或回歸任務。屬於典型的 多層感知器（MLP, Multi-Layer Perceptron） 結構。"
   ]
  },
  {
   "cell_type": "code",
   "execution_count": 29,
   "metadata": {},
   "outputs": [],
   "source": [
    "class SimpleNN(nn.Module):\n",
    "    def __init__(self, input_dim, output_dim):\n",
    "        super(SimpleNN, self).__init__()\n",
    "        self.fc1 = nn.Linear(input_dim, 64)     # 隱藏層有 64 個神經元（hidden units）\n",
    "        self.relu1 = nn.ReLU()\n",
    "        self.fc2 = nn.Linear(64, 16)\n",
    "        self.relu2 = nn.ReLU()\n",
    "        self.final_fc = nn.Linear(16, output_dim)\n",
    "\n",
    "    def forward(self, x):\n",
    "        x = self.fc1(x) # y = Wx + b\n",
    "        x = self.relu1(x)\n",
    "        x = self.fc2(x)\n",
    "        x = self.relu2(x)\n",
    "        x = self.final_fc(x)\n",
    "        return x"
   ]
  },
  {
   "cell_type": "code",
   "execution_count": 30,
   "metadata": {},
   "outputs": [
    {
     "data": {
      "text/plain": [
       "SimpleNN(\n",
       "  (fc1): Linear(in_features=256, out_features=64, bias=True)\n",
       "  (relu1): ReLU()\n",
       "  (fc2): Linear(in_features=64, out_features=16, bias=True)\n",
       "  (relu2): ReLU()\n",
       "  (final_fc): Linear(in_features=16, out_features=10, bias=True)\n",
       ")"
      ]
     },
     "execution_count": 30,
     "metadata": {},
     "output_type": "execute_result"
    }
   ],
   "source": [
    "input_dim =  256 # image 的 pixel 有 256\n",
    "output_dim = 10  # 我們想要分類 0~9 其中一個類別\n",
    "\n",
    "model = SimpleNN(input_dim, output_dim)\n",
    "model"
   ]
  },
  {
   "cell_type": "markdown",
   "metadata": {},
   "source": [
    "## Evaluator"
   ]
  },
  {
   "cell_type": "markdown",
   "metadata": {},
   "source": [
    "- `preds`: 模型預測的結果（通常是分類標籤）\n",
    "- `gts`: ground truth，真實標籤（ground truths）"
   ]
  },
  {
   "cell_type": "code",
   "execution_count": 68,
   "metadata": {},
   "outputs": [],
   "source": [
    "def evaluator(preds, gts):\n",
    "    preds = preds.cpu().numpy() if isinstance(preds, torch.Tensor) else preds # 將 Tensor 轉成 numpy ，如果是 Tensor 的話\n",
    "    gts = gts.cpu().numpy() if isinstance(gts, torch.Tensor) else gts\n",
    "    \n",
    "    acc = accuracy_score(preds, gts)             # 計算正確率\n",
    "    f1 = f1_score(preds, gts, average=\"macro\")   # F1 score，介在 0~1 ，對 model 分類性能的綜合評價，越高越好\n",
    "    misclassification_rate = 1 - acc             # 計算分錯率\n",
    "    \n",
    "    return acc, f1, misclassification_rate"
   ]
  },
  {
   "cell_type": "markdown",
   "metadata": {},
   "source": [
    "## Training"
   ]
  },
  {
   "cell_type": "code",
   "execution_count": null,
   "metadata": {},
   "outputs": [],
   "source": [
    "def train_one_epoch(model, train_loader, optimizer, scheduler, criterion, device):\n",
    "    model.train()                                            # PyTorch 中一個用來告知 model 進行訓練的狀態設置，會啟用一些用在訓練的層（如 dropout 和 batch normalization）\n",
    "    train_loss = .0                                          # 累積一個 epoch 的總損失\n",
    "    predictions, ground_truths = [], []                      # 儲存所有的預測結果和對應的真實標籤。\n",
    "    for ID, labels, images in train_loader:\n",
    "        labels = labels.to(device=device, dtype=torch.long)  # nn.CrossEntropyLoss 要求 label 必須是長整數型態，一般的 int 不行。\n",
    "        images = images.to(device=device, dtype=torch.float) # 將 image 移動到指定的設備（例如 GPU）上，並確保其資料型態為 float。\n",
    "        \n",
    "        optimizer.zero_grad()                                # 清空 optimizer 的梯度，避免梯度累加\n",
    "        logits = model(images)                               # 將 image 輸入 model ，計算輸出的 logits。\n",
    "        loss = criterion(logits, labels)                     # 計算 model 輸出與真實標籤之間的損失（loss）\n",
    "        loss.backward()                                      # 計算 loss 對 model 參數的梯度\n",
    "        \n",
    "        optimizer.step()                                     # 更新 model 參數\n",
    "        \n",
    "        train_loss += loss.item()                            # 將當前 batch 的損失累加到總損失中。\n",
    "        preds = torch.argmax(logits, dim=1)                  # 獲取機率最大的類別，當作預測\n",
    "        \n",
    "        predictions.append(preds)                            # 新增預測結果\n",
    "        ground_truths.append(labels)                         # 新增真實標籤\n",
    "        \n",
    "    scheduler.step()                                         # 更新 lr 的參數\n",
    "    \n",
    "    train_loss /= len(train_loader)                          # 計算整個 epoch 的平均損失\n",
    "    \n",
    "    predictions = torch.cat(predictions)                     # 將所有 batch 的預測結果拼成一個完整的張量。\n",
    "    ground_truths = torch.cat(ground_truths)                 # 將所有的真實標籤拼成一個完整的張量。\n",
    "    \n",
    "    train_acc, train_f1, train_misclass = evaluator(predictions, ground_truths) # 計算當前 epoch 的 acc 、 F1 score 和 misclassification_rate\n",
    "    \n",
    "    return train_loss, 100*train_acc, 100*train_f1, 100*train_misclass"
   ]
  },
  {
   "cell_type": "markdown",
   "metadata": {},
   "source": [
    "## Validation"
   ]
  },
  {
   "cell_type": "code",
   "execution_count": null,
   "metadata": {},
   "outputs": [],
   "source": [
    "def validation(model, valid_loader, criterion, device):\n",
    "    model.eval()\n",
    "    valid_loss = .0\n",
    "    predictions, ground_truths = [], []\n",
    "    with torch.no_grad(): # 不計算梯度\n",
    "        for ID, labels, images in valid_loader:\n",
    "            labels = labels.to(device=device, dtype=torch.long)\n",
    "            images = images.to(device=device, dtype=torch.float)\n",
    "            \n",
    "            # validation 不需要計算梯度，所以不用 optimizer 、 loss.backward() 、 scheduler\n",
    "            logits = model(images)\n",
    "            loss = criterion(logits, labels)\n",
    "            \n",
    "            valid_loss += loss.item()\n",
    "            preds = torch.argmax(logits, dim=1)\n",
    "        \n",
    "            predictions.append(preds)\n",
    "            ground_truths.append(labels)\n",
    "        \n",
    "    valid_loss /= len(valid_loader)\n",
    "    \n",
    "    predictions = torch.cat(predictions)\n",
    "    ground_truths = torch.cat(ground_truths)\n",
    "    \n",
    "    valid_acc, valid_f1, valid_misclass = evaluator(predictions, ground_truths)\n",
    "    \n",
    "    return valid_loss, 100*valid_acc, 100*valid_f1, 100*valid_misclass"
   ]
  }
 ],
 "metadata": {
  "kernelspec": {
   "display_name": "venv",
   "language": "python",
   "name": "python3"
  },
  "language_info": {
   "codemirror_mode": {
    "name": "ipython",
    "version": 3
   },
   "file_extension": ".py",
   "mimetype": "text/x-python",
   "name": "python",
   "nbconvert_exporter": "python",
   "pygments_lexer": "ipython3",
   "version": "3.13.1"
  }
 },
 "nbformat": 4,
 "nbformat_minor": 2
}
